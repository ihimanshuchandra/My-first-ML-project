{
  "nbformat": 4,
  "nbformat_minor": 0,
  "metadata": {
    "colab": {
      "provenance": [],
      "authorship_tag": "ABX9TyNshLZYg6bVgB9pIjyd1doj",
      "include_colab_link": true
    },
    "kernelspec": {
      "name": "python3",
      "display_name": "Python 3"
    },
    "language_info": {
      "name": "python"
    }
  },
  "cells": [
    {
      "cell_type": "markdown",
      "metadata": {
        "id": "view-in-github",
        "colab_type": "text"
      },
      "source": [
        "<a href=\"https://colab.research.google.com/github/ihimanshuchandra/My-first-ML-project/blob/main/Dice_Model.ipynb\" target=\"_parent\"><img src=\"https://colab.research.google.com/assets/colab-badge.svg\" alt=\"Open In Colab\"/></a>"
      ]
    },
    {
      "cell_type": "markdown",
      "source": [
        "#Dice color predicting model\n"
      ],
      "metadata": {
        "id": "OVjgFR9I2Bv2"
      }
    },
    {
      "cell_type": "markdown",
      "source": [
        "#Load data"
      ],
      "metadata": {
        "id": "MBhV7FRQ2Hp6"
      }
    },
    {
      "cell_type": "code",
      "source": [],
      "metadata": {
        "id": "FBnbqFro2MpN"
      },
      "execution_count": null,
      "outputs": []
    }
  ]
}